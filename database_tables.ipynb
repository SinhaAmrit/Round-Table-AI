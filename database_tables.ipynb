{
  "cells": [
    {
      "cell_type": "markdown",
      "metadata": {
        "id": "view-in-github",
        "colab_type": "text"
      },
      "source": [
        "<a href=\"https://colab.research.google.com/github/SinhaAmrit/Round-Table-AI/blob/feat-auth-backend/database_tables.ipynb\" target=\"_parent\"><img src=\"https://colab.research.google.com/assets/colab-badge.svg\" alt=\"Open In Colab\"/></a>"
      ]
    },
    {
      "cell_type": "markdown",
      "source": [
        "# Import Libraries"
      ],
      "metadata": {
        "id": "nYtwvXki3bx0"
      },
      "id": "nYtwvXki3bx0"
    },
    {
      "cell_type": "code",
      "execution_count": 1,
      "id": "320ed545-7900-4689-872f-7844dc1f0ad6",
      "metadata": {
        "id": "320ed545-7900-4689-872f-7844dc1f0ad6"
      },
      "outputs": [],
      "source": [
        "import psycopg2\n",
        "from psycopg2 import sql\n",
        "from psycopg2.extensions import ISOLATION_LEVEL_AUTOCOMMIT"
      ]
    },
    {
      "cell_type": "markdown",
      "source": [
        "# Initializing Database Parameters/Credentials"
      ],
      "metadata": {
        "id": "jY1UC1ty3nkB"
      },
      "id": "jY1UC1ty3nkB"
    },
    {
      "cell_type": "code",
      "execution_count": 2,
      "id": "ad5298a6-3709-4870-8beb-53b0ae469953",
      "metadata": {
        "id": "ad5298a6-3709-4870-8beb-53b0ae469953"
      },
      "outputs": [],
      "source": [
        "db_params = {\n",
        "    'user': 'postgres',\n",
        "    'password': 'JHc0oWLiV2vcwsuu',\n",
        "    'host': 'db.oufxvnabgnyidiwwiviq.supabase.co',\n",
        "    'port': '5432',\n",
        "    'database': 'postgres',\n",
        "}"
      ]
    },
    {
      "cell_type": "markdown",
      "source": [
        "# Establishing Connection with the Database"
      ],
      "metadata": {
        "id": "mndQSnKV5Ya4"
      },
      "id": "mndQSnKV5Ya4"
    },
    {
      "cell_type": "code",
      "execution_count": 3,
      "id": "5ad0451d-67a1-4538-9a4d-13c6ac34e646",
      "metadata": {
        "id": "5ad0451d-67a1-4538-9a4d-13c6ac34e646"
      },
      "outputs": [],
      "source": [
        "# Function to create tables\n",
        "conn = psycopg2.connect(**db_params)\n",
        "conn.set_isolation_level(ISOLATION_LEVEL_AUTOCOMMIT)\n",
        "cursor = conn.cursor()"
      ]
    },
    {
      "cell_type": "markdown",
      "source": [
        "# Checking Existing Tables"
      ],
      "metadata": {
        "id": "T1OVBJPX4Jt4"
      },
      "id": "T1OVBJPX4Jt4"
    },
    {
      "cell_type": "code",
      "execution_count": 4,
      "id": "e7113eee-f7cf-437d-afce-ec75b298d753",
      "metadata": {
        "colab": {
          "base_uri": "https://localhost:8080/"
        },
        "id": "e7113eee-f7cf-437d-afce-ec75b298d753",
        "outputId": "01532710-6b15-4b68-836a-1400876adde4"
      },
      "outputs": [
        {
          "output_type": "stream",
          "name": "stdout",
          "text": [
            "Tables in the public schema:\n",
            "categories\n",
            "conn_accounts\n",
            "users\n",
            "notifications\n",
            "discussions\n",
            "replies\n",
            "history\n",
            "discuss_replies\n",
            "discuss_categories\n"
          ]
        }
      ],
      "source": [
        "cursor.execute(\"SELECT table_name FROM information_schema.tables WHERE table_schema = 'public';\")\n",
        "\n",
        "# Fetch all the rows\n",
        "tables = cursor.fetchall()\n",
        "\n",
        "# Print the list of tables\n",
        "print(\"Tables in the public schema:\")\n",
        "for table in tables:\n",
        "    print(table[0])"
      ]
    },
    {
      "cell_type": "markdown",
      "source": [
        "# Creating table Categories"
      ],
      "metadata": {
        "id": "trNxIIaG4TUZ"
      },
      "id": "trNxIIaG4TUZ"
    },
    {
      "cell_type": "code",
      "execution_count": 5,
      "id": "8dd35251-8fbd-4e5f-af86-8f38bfd42dba",
      "metadata": {
        "id": "8dd35251-8fbd-4e5f-af86-8f38bfd42dba"
      },
      "outputs": [],
      "source": [
        "cursor.execute('''\n",
        "    CREATE TABLE IF NOT EXISTS categories (\n",
        "        id UUID DEFAULT gen_random_uuid() PRIMARY KEY,\n",
        "        title VARCHAR(255) NOT NULL,\n",
        "        created_at TIMESTAMP\n",
        "    );\n",
        "''')"
      ]
    },
    {
      "cell_type": "markdown",
      "source": [
        "# Creating table Connected Accounts"
      ],
      "metadata": {
        "id": "WOZJWuq94eGp"
      },
      "id": "WOZJWuq94eGp"
    },
    {
      "cell_type": "code",
      "execution_count": 6,
      "id": "5ba1c700-1a5e-428c-831a-4c7f146651ea",
      "metadata": {
        "id": "5ba1c700-1a5e-428c-831a-4c7f146651ea"
      },
      "outputs": [],
      "source": [
        "# Create 'connected_accs' table\n",
        "cursor.execute('''\n",
        "    CREATE TABLE IF NOT EXISTS conn_accounts (\n",
        "        id UUID DEFAULT gen_random_uuid() PRIMARY KEY,\n",
        "        github VARCHAR(50),\n",
        "        stackoverflow VARCHAR(50),\n",
        "        linkedIn VARCHAR(50),\n",
        "        facebook VARCHAR(50),\n",
        "        twitter VARCHAR(50),\n",
        "        slak VARCHAR(50)\n",
        "    );\n",
        "''')"
      ]
    },
    {
      "cell_type": "markdown",
      "source": [
        "# Creating table Users"
      ],
      "metadata": {
        "id": "KWFw--PO4jDY"
      },
      "id": "KWFw--PO4jDY"
    },
    {
      "cell_type": "code",
      "execution_count": 7,
      "id": "0de4b1b2-27f3-41a4-8f8b-aa7c84f62f18",
      "metadata": {
        "id": "0de4b1b2-27f3-41a4-8f8b-aa7c84f62f18"
      },
      "outputs": [],
      "source": [
        "cursor.execute('''\n",
        "    CREATE TABLE IF NOT EXISTS users (\n",
        "        id UUID DEFAULT gen_random_uuid() PRIMARY KEY,\n",
        "        username VARCHAR(20) NOT NULL,\n",
        "        password VARCHAR(255) NOT NULL,\n",
        "        F_name VARCHAR(16),\n",
        "        L_name VARCHAR(16),\n",
        "        email VARCHAR(50) NOT NULL,\n",
        "        created_at TIMESTAMP,\n",
        "        secret_key VARCHAR(125),\n",
        "        country VARCHAR(25),\n",
        "        role VARCHAR(25),\n",
        "        email_varified_at TIMESTAMP,\n",
        "        update_at TIMESTAMP,\n",
        "        conneted_accounts UUID REFERENCES conn_accounts(id),\n",
        "        mob VARCHAR(10),\n",
        "        status VARCHAR(16),\n",
        "        last_seen TIMESTAMP,\n",
        "        score INT,\n",
        "        report INT\n",
        "    );\n",
        "''')"
      ]
    },
    {
      "cell_type": "markdown",
      "source": [
        "# Creating table Notifications"
      ],
      "metadata": {
        "id": "FJ5SnziD4mPo"
      },
      "id": "FJ5SnziD4mPo"
    },
    {
      "cell_type": "code",
      "execution_count": 8,
      "id": "5c73d56e-1eb5-400f-bee5-5326e1c0f8c6",
      "metadata": {
        "id": "5c73d56e-1eb5-400f-bee5-5326e1c0f8c6"
      },
      "outputs": [],
      "source": [
        "cursor.execute('''\n",
        "    CREATE TABLE IF NOT EXISTS notifications (\n",
        "        id UUID DEFAULT gen_random_uuid() PRIMARY KEY,\n",
        "        user_id UUID REFERENCES users(id),\n",
        "        type VARCHAR(50),\n",
        "        data TEXT,\n",
        "        created_at TIMESTAMP,\n",
        "        read_at TIMESTAMP\n",
        "    );\n",
        "''')"
      ]
    },
    {
      "cell_type": "markdown",
      "source": [
        "# Creating table Discussions"
      ],
      "metadata": {
        "id": "Oe54bnIc4qPx"
      },
      "id": "Oe54bnIc4qPx"
    },
    {
      "cell_type": "code",
      "execution_count": 9,
      "id": "2b099553-3353-469e-be49-7c1ae0a17394",
      "metadata": {
        "id": "2b099553-3353-469e-be49-7c1ae0a17394"
      },
      "outputs": [],
      "source": [
        "cursor.execute('''\n",
        "    CREATE TABLE IF NOT EXISTS discussions (\n",
        "        id UUID DEFAULT gen_random_uuid() PRIMARY KEY,\n",
        "        title VARCHAR(255) NOT NULL,\n",
        "        description TEXT,\n",
        "        user_id UUID REFERENCES users(id),\n",
        "        created_at TIMESTAMP,\n",
        "        deleted_at TIMESTAMP,\n",
        "        slug VARCHAR(50),\n",
        "        summery TEXT,\n",
        "        archived BOOLEAN\n",
        "    );\n",
        "''')"
      ]
    },
    {
      "cell_type": "markdown",
      "source": [
        "# Creating table Replies"
      ],
      "metadata": {
        "id": "xBbWVHCF4t__"
      },
      "id": "xBbWVHCF4t__"
    },
    {
      "cell_type": "code",
      "execution_count": 10,
      "id": "fe1958fd-7666-4fc6-bd84-5ce85239e9ed",
      "metadata": {
        "id": "fe1958fd-7666-4fc6-bd84-5ce85239e9ed"
      },
      "outputs": [],
      "source": [
        "cursor.execute('''\n",
        "    CREATE TABLE IF NOT EXISTS replies (\n",
        "        id UUID DEFAULT gen_random_uuid() PRIMARY KEY,\n",
        "        user_id UUID REFERENCES users(id),\n",
        "        discussion_id UUID REFERENCES discussions(id),\n",
        "        content TEXT,\n",
        "        created_at TIMESTAMP,\n",
        "        deleted_at TIMESTAMP\n",
        "    );\n",
        "''')"
      ]
    },
    {
      "cell_type": "markdown",
      "source": [
        "# Creating table History"
      ],
      "metadata": {
        "id": "KL7bgDKD4xdv"
      },
      "id": "KL7bgDKD4xdv"
    },
    {
      "cell_type": "code",
      "execution_count": 11,
      "id": "4af04238-78f4-4fad-8f92-791de7ea34a7",
      "metadata": {
        "id": "4af04238-78f4-4fad-8f92-791de7ea34a7"
      },
      "outputs": [],
      "source": [
        "cursor.execute('''\n",
        "    CREATE TABLE IF NOT EXISTS history (\n",
        "        id UUID DEFAULT gen_random_uuid() PRIMARY KEY,\n",
        "        user_id UUID REFERENCES users(id),\n",
        "        discussion_id UUID REFERENCES discussions(id),\n",
        "        is_liked BOOLEAN,\n",
        "        reply_id UUID REFERENCES replies(id),\n",
        "        visited_at TIMESTAMP,\n",
        "        deleted_at TIMESTAMP\n",
        "    );\n",
        "''')\n"
      ]
    },
    {
      "cell_type": "markdown",
      "source": [
        "# Creating table Discussion - Replies"
      ],
      "metadata": {
        "id": "u8CkNkv040-d"
      },
      "id": "u8CkNkv040-d"
    },
    {
      "cell_type": "code",
      "execution_count": 12,
      "id": "a2a800b0-1b9f-4890-ab29-d64dae00acc0",
      "metadata": {
        "id": "a2a800b0-1b9f-4890-ab29-d64dae00acc0"
      },
      "outputs": [],
      "source": [
        "cursor.execute('''\n",
        "    CREATE TABLE IF NOT EXISTS discuss_replies (\n",
        "        id UUID DEFAULT gen_random_uuid() PRIMARY KEY,\n",
        "        discussion_id UUID REFERENCES discussions(id),\n",
        "        reply_id UUID REFERENCES replies(id)\n",
        "    );\n",
        "''')"
      ]
    },
    {
      "cell_type": "markdown",
      "source": [
        "# Creating table Discussion - Categories"
      ],
      "metadata": {
        "id": "HatK_jOB48VO"
      },
      "id": "HatK_jOB48VO"
    },
    {
      "cell_type": "code",
      "execution_count": 13,
      "id": "7b742003-c0a5-4456-8698-d346a790deb7",
      "metadata": {
        "id": "7b742003-c0a5-4456-8698-d346a790deb7"
      },
      "outputs": [],
      "source": [
        "cursor.execute('''\n",
        "    CREATE TABLE IF NOT EXISTS discuss_categories (\n",
        "        id UUID DEFAULT gen_random_uuid() PRIMARY KEY,\n",
        "        discussion_id UUID REFERENCES discussions(id),\n",
        "        category_id UUID REFERENCES categories(id)\n",
        "    );\n",
        "''')"
      ]
    },
    {
      "cell_type": "markdown",
      "source": [
        "# Commiting Changes into Database"
      ],
      "metadata": {
        "id": "qiuvefv-5Kr5"
      },
      "id": "qiuvefv-5Kr5"
    },
    {
      "cell_type": "code",
      "execution_count": 14,
      "id": "96090048-3bc0-4351-9900-b7e61c4dbfc1",
      "metadata": {
        "id": "96090048-3bc0-4351-9900-b7e61c4dbfc1"
      },
      "outputs": [],
      "source": [
        "# Commit the changes and close the connection\n",
        "conn.commit()"
      ]
    },
    {
      "cell_type": "markdown",
      "source": [
        "# Close the Connection with Database"
      ],
      "metadata": {
        "id": "N4z76k2W5RRo"
      },
      "id": "N4z76k2W5RRo"
    },
    {
      "cell_type": "code",
      "execution_count": 15,
      "id": "7f509249-30f8-4f8c-9516-a290114a7d64",
      "metadata": {
        "id": "7f509249-30f8-4f8c-9516-a290114a7d64"
      },
      "outputs": [],
      "source": [
        "cursor.close()\n",
        "conn.close()"
      ]
    }
  ],
  "metadata": {
    "kernelspec": {
      "display_name": "Python 3",
      "name": "python3"
    },
    "language_info": {
      "codemirror_mode": {
        "name": "ipython",
        "version": 3
      },
      "file_extension": ".py",
      "mimetype": "text/x-python",
      "name": "python",
      "nbconvert_exporter": "python",
      "pygments_lexer": "ipython3",
      "version": "3.11.4"
    },
    "colab": {
      "provenance": [],
      "gpuType": "T4",
      "include_colab_link": true
    },
    "accelerator": "GPU"
  },
  "nbformat": 4,
  "nbformat_minor": 5
}